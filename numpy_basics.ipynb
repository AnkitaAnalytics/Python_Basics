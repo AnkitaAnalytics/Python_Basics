{
  "nbformat": 4,
  "nbformat_minor": 0,
  "metadata": {
    "colab": {
      "provenance": [],
      "authorship_tag": "ABX9TyPgi4zfwOOD3tu9YTvX3+Ft",
      "include_colab_link": true
    },
    "kernelspec": {
      "name": "python3",
      "display_name": "Python 3"
    },
    "language_info": {
      "name": "python"
    }
  },
  "cells": [
    {
      "cell_type": "markdown",
      "metadata": {
        "id": "view-in-github",
        "colab_type": "text"
      },
      "source": [
        "<a href=\"https://colab.research.google.com/github/AnkitaAnalytics/Python_Basics/blob/main/numpy_basics.ipynb\" target=\"_parent\"><img src=\"https://colab.research.google.com/assets/colab-badge.svg\" alt=\"Open In Colab\"/></a>"
      ]
    },
    {
      "cell_type": "markdown",
      "source": [
        "From a given array, extract all the elements which are greater than 'm' and less than 'n'. NOTE: 'm' and 'n' are integer values provided as input.\n",
        "\n",
        "\n",
        "\n",
        "**Input format:**\n",
        "\n",
        "A list of integers on line one\n",
        "\n",
        "Integer 'm' on line two\n",
        "\n",
        "Integer 'n' on line three\n",
        "\n",
        "\n",
        "\n",
        "**Output format:**\n",
        "\n",
        "1-D array containing integers greater than 'm' and smaller than 'n'."
      ],
      "metadata": {
        "id": "uc0njEQYcqmL"
      }
    },
    {
      "cell_type": "code",
      "source": [
        "import ast\n",
        "input_list=ast.literal_eval(input(\"Enter the list \"))\n",
        "m=int(input(\"Enter integer m \"))\n",
        "n=int(input(\"Enter interger n \"))\n",
        "\n",
        "import numpy as np\n",
        "array_1 = np.array(input_list)\n",
        "final_array = np.array([item for item in array_1 if m < item <n])\n",
        "print(final_array)"
      ],
      "metadata": {
        "id": "yrg2nWuuFsFu",
        "colab": {
          "base_uri": "https://localhost:8080/"
        },
        "outputId": "bd0a9a1b-c791-4ea8-d4e5-071d68d13c22"
      },
      "execution_count": null,
      "outputs": [
        {
          "output_type": "stream",
          "name": "stdout",
          "text": [
            "Enter the list [ 1, 5, 9, 12, 15, 7, 12, 9 ] \n",
            "Enter integer m 6\n",
            "Enter interger n 12\n",
            "[9 7 9]\n"
          ]
        }
      ]
    },
    {
      "cell_type": "markdown",
      "source": [
        "**Question:** Create an array of the first 10 multiples of 5 using the 'arange' function."
      ],
      "metadata": {
        "id": "jr9BRQFKfdgT"
      }
    },
    {
      "cell_type": "code",
      "source": [
        "a = np.arange(5,51,5)\n",
        "print (\"The array of the first 10 multiples of 5 is: \", a)"
      ],
      "metadata": {
        "colab": {
          "base_uri": "https://localhost:8080/"
        },
        "id": "BdpJG8wedz1H",
        "outputId": "f729b8e2-07dc-43f8-a9d8-11af6b716eb8"
      },
      "execution_count": null,
      "outputs": [
        {
          "output_type": "stream",
          "name": "stdout",
          "text": [
            "The array of the first 10 multiples of 5 is:  [ 5 10 15 20 25 30 35 40 45 50]\n"
          ]
        }
      ]
    },
    {
      "cell_type": "markdown",
      "source": [
        "**Checkerboard Matrix**\n",
        "Description\n",
        "Given an even integer ‘n’, create an ‘n*n’ checkerboard matrix with the values 0 and 1, using the tile function.\n",
        "\n",
        "\n",
        "\n",
        "Format:\n",
        "\n",
        "Input: A single even integer 'n'.\n",
        "\n",
        "Output: An 'n*n' NumPy array in checkerboard format."
      ],
      "metadata": {
        "id": "YYa9r0TdgEMq"
      }
    },
    {
      "cell_type": "code",
      "source": [
        "n = int(input(\"Enter the value of n \"))\n",
        "import numpy as np\n",
        "\n",
        "#creating n*n matrix containing zeros\n",
        "\n",
        "a = np.zeros((n,n),dtype = int)\n",
        "print (a)"
      ],
      "metadata": {
        "colab": {
          "base_uri": "https://localhost:8080/"
        },
        "id": "QBlkOFKYfrm7",
        "outputId": "b4bc89eb-158d-4983-d910-d348dcdbe5db"
      },
      "execution_count": null,
      "outputs": [
        {
          "output_type": "stream",
          "name": "stdout",
          "text": [
            "Enter the value of n 3\n",
            "[[0 0 0]\n",
            " [0 0 0]\n",
            " [0 0 0]]\n"
          ]
        }
      ]
    },
    {
      "cell_type": "code",
      "source": [
        "b = np.tile(a,1)\n",
        "b"
      ],
      "metadata": {
        "colab": {
          "base_uri": "https://localhost:8080/"
        },
        "id": "wRbaE1EFgolL",
        "outputId": "752405c3-7ad5-4bda-9fee-7f09a1609bd4"
      },
      "execution_count": null,
      "outputs": [
        {
          "output_type": "execute_result",
          "data": {
            "text/plain": [
              "array([[0, 0, 0],\n",
              "       [0, 0, 0],\n",
              "       [0, 0, 0]])"
            ]
          },
          "metadata": {},
          "execution_count": 19
        }
      ]
    },
    {
      "cell_type": "markdown",
      "source": [
        "**Question** For the given data calculate the following:-\n",
        "1. How many students completed more than 15 modules ?\n",
        "2. what is the average quiz score?\n",
        "3. How many students scored above 90 in the quiz?\n",
        "4. Due to a system error, the scores of the first five students in the quiz_scores array were recorded incorrectly. Their correct scores are as follows: correct_scores = np.array([82, 88, 76, 95, 90]) . Replace the scores with correct scores\n",
        "5. What percentage of students scored below 80 in the quiz?"
      ],
      "metadata": {
        "id": "hfD1GL_esbOO"
      }
    },
    {
      "cell_type": "code",
      "source": [
        "import numpy as np\n",
        "\n",
        "#data for student performance\n",
        "modules_completed = np.array([12, 15, 18, 20, 14, 16, 22, 10, 13, 17, 19, 21, 14, 12, 16, 18, 20, 14, 16, 19])\n",
        "quiz_scores = np.array([85, 90, 78, 92, 88, 76, 95, 80, 89, 94, 81, 87, 93, 79, 91, 84, 88, 75, 82, 96])"
      ],
      "metadata": {
        "id": "xLGFQH2RhSeJ"
      },
      "execution_count": null,
      "outputs": []
    },
    {
      "cell_type": "code",
      "source": [
        "#students who completed more than 15 modules\n",
        "m= np.sum(modules_completed > 15)\n",
        "print (\"students who completed more than 15 modules are \", m)"
      ],
      "metadata": {
        "colab": {
          "base_uri": "https://localhost:8080/"
        },
        "id": "kNVEVwtnsiwa",
        "outputId": "0e9a59a4-5d42-4b27-f1eb-1c2d4f25fac5"
      },
      "execution_count": null,
      "outputs": [
        {
          "output_type": "stream",
          "name": "stdout",
          "text": [
            "students who completed more than 15 modules are  12\n"
          ]
        }
      ]
    },
    {
      "cell_type": "code",
      "source": [
        "#average quiz scores\n",
        "\n",
        "n= np.mean(quiz_scores)\n",
        "print (\"The average quiz scores is \", n)"
      ],
      "metadata": {
        "colab": {
          "base_uri": "https://localhost:8080/"
        },
        "id": "JuOxEjems9wA",
        "outputId": "a596eff3-c564-4451-a2ce-795fffbdc2d8"
      },
      "execution_count": null,
      "outputs": [
        {
          "output_type": "stream",
          "name": "stdout",
          "text": [
            "The average quiz scores is  86.15\n"
          ]
        }
      ]
    },
    {
      "cell_type": "code",
      "source": [
        "#students who scored above 90\n",
        "\n",
        "students_above90= np.sum(quiz_scores > 90)\n",
        "print (\"students who scored above 90 are \", students_above90)"
      ],
      "metadata": {
        "colab": {
          "base_uri": "https://localhost:8080/"
        },
        "id": "g-xzEArKtcJ3",
        "outputId": "ce2c1f7f-1481-454b-8f1f-0c4f2e101c04"
      },
      "execution_count": null,
      "outputs": [
        {
          "output_type": "stream",
          "name": "stdout",
          "text": [
            "students who scored above 90 are  6\n"
          ]
        }
      ]
    },
    {
      "cell_type": "code",
      "source": [
        "#adding correct scores\n",
        "correct_scores = np.array([82, 88, 76, 95, 90])\n",
        "quiz_scores[:5] = correct_scores\n",
        "print(quiz_scores)"
      ],
      "metadata": {
        "colab": {
          "base_uri": "https://localhost:8080/"
        },
        "id": "rphJb6kJt46A",
        "outputId": "259c8f0b-838e-473c-9adb-b87cf9a2c7e3"
      },
      "execution_count": null,
      "outputs": [
        {
          "output_type": "stream",
          "name": "stdout",
          "text": [
            "[82 88 76 95 90 76 95 80 89 94 81 87 93 79 91 84 88 75 82 96]\n"
          ]
        }
      ]
    },
    {
      "cell_type": "code",
      "source": [
        "# percentage of students who scored below 80 in quiz\n",
        "students_below80 = (np.sum(quiz_scores < 80) / len(quiz_scores)) * 100\n",
        "print(\"Percentage of students who scored below 80 in quiz:\", students_below80)"
      ],
      "metadata": {
        "colab": {
          "base_uri": "https://localhost:8080/"
        },
        "id": "7XzeqV7auQmi",
        "outputId": "3f039996-6156-47f1-a872-f28c4c45f98e"
      },
      "execution_count": null,
      "outputs": [
        {
          "output_type": "stream",
          "name": "stdout",
          "text": [
            "Percentage of students who scored below 80 in quiz: 20.0\n"
          ]
        }
      ]
    },
    {
      "cell_type": "code",
      "source": [],
      "metadata": {
        "id": "NN5mbIexutB8"
      },
      "execution_count": null,
      "outputs": []
    }
  ]
}