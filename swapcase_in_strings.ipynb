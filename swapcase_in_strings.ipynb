{
  "nbformat": 4,
  "nbformat_minor": 0,
  "metadata": {
    "colab": {
      "provenance": [],
      "authorship_tag": "ABX9TyN8ATxe/2Nj5PQMtcY57wNa",
      "include_colab_link": true
    },
    "kernelspec": {
      "name": "python3",
      "display_name": "Python 3"
    },
    "language_info": {
      "name": "python"
    }
  },
  "cells": [
    {
      "cell_type": "markdown",
      "metadata": {
        "id": "view-in-github",
        "colab_type": "text"
      },
      "source": [
        "<a href=\"https://colab.research.google.com/github/AnkitaAnalytics/Python_Basics/blob/main/swapcase_in_strings.ipynb\" target=\"_parent\"><img src=\"https://colab.research.google.com/assets/colab-badge.svg\" alt=\"Open In Colab\"/></a>"
      ]
    },
    {
      "cell_type": "markdown",
      "source": [
        "You are given a string and your task is to swap cases. In other words, convert all lowercase letters to uppercase letters and vice versa.\n",
        "\n",
        "For Example:\n",
        "\n",
        "Www.HackerRank.com → wWW.hACKERrANK.COM\n",
        "Pythonist 2 → pYTHONIST 2  \n",
        "Function Description\n",
        "\n",
        "Complete the swap_case function in the editor below.\n",
        "\n",
        "swap_case has the following parameters:\n",
        "\n",
        "string s: the string to modify\n",
        "Returns\n",
        "\n",
        "string: the modified string\n",
        "Input Format\n",
        "\n",
        "A single line containing a string ."
      ],
      "metadata": {
        "id": "pPJRi4Z6ARL3"
      }
    },
    {
      "cell_type": "code",
      "source": [
        "\n",
        "def swap_case(s):\n",
        "    a =\"\"\n",
        "    for char in s:\n",
        "      if char.islower():\n",
        "        a +=char.upper()\n",
        "      elif char.isupper():\n",
        "        a += char.lower()\n",
        "      else:\n",
        "        a+= char\n",
        "    return a\n",
        "\n",
        "\n",
        "if __name__ == '__main__':\n",
        "    s = input()\n",
        "    result = swap_case(s)\n",
        "    print(result)"
      ],
      "metadata": {
        "colab": {
          "base_uri": "https://localhost:8080/"
        },
        "id": "7qIuPrl_-EWx",
        "outputId": "b1b39dbc-0cc4-4317-d428-0419b454a402"
      },
      "execution_count": 3,
      "outputs": [
        {
          "output_type": "stream",
          "name": "stdout",
          "text": [
            "DreaMs\n",
            "dREAmS\n"
          ]
        }
      ]
    },
    {
      "cell_type": "code",
      "source": [],
      "metadata": {
        "id": "G32M7E5cAXcZ"
      },
      "execution_count": 3,
      "outputs": []
    }
  ]
}