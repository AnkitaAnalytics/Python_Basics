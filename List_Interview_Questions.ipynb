{
  "nbformat": 4,
  "nbformat_minor": 0,
  "metadata": {
    "colab": {
      "provenance": [],
      "include_colab_link": true
    },
    "kernelspec": {
      "name": "python3",
      "display_name": "Python 3"
    },
    "language_info": {
      "name": "python"
    }
  },
  "cells": [
    {
      "cell_type": "markdown",
      "metadata": {
        "id": "view-in-github",
        "colab_type": "text"
      },
      "source": [
        "<a href=\"https://colab.research.google.com/github/AnkitaAnalytics/Python_Basics/blob/main/List_Interview_Questions.ipynb\" target=\"_parent\"><img src=\"https://colab.research.google.com/assets/colab-badge.svg\" alt=\"Open In Colab\"/></a>"
      ]
    },
    {
      "cell_type": "markdown",
      "source": [
        "# Find the most repeated number in a list"
      ],
      "metadata": {
        "id": "koX--N-yr4E0"
      }
    },
    {
      "cell_type": "code",
      "source": [
        "#method 1\n",
        "l = [1,1,2,2,2,33,33,4,4,4,4,4,4]\n",
        "\n",
        "frequency = {}\n",
        "for num in l:\n",
        "  if num in frequency:\n",
        "    frequency[num] +=1\n",
        "  else:\n",
        "    frequency[num] = 1\n",
        "print(frequency)\n",
        "\n",
        "print(max(frequency,key=frequency.get))\n"
      ],
      "metadata": {
        "colab": {
          "base_uri": "https://localhost:8080/"
        },
        "id": "98oDNp2Yr9kk",
        "outputId": "f49bf3c6-9f64-4f41-b624-68a876aa9a5d"
      },
      "execution_count": null,
      "outputs": [
        {
          "output_type": "stream",
          "name": "stdout",
          "text": [
            "{1: 2, 2: 3, 33: 2, 4: 6}\n",
            "4\n"
          ]
        }
      ]
    },
    {
      "cell_type": "code",
      "source": [
        "#method 2\n",
        "\n",
        "l= [1,1,2,2,2,33,33,4,4,4,4,4,4]\n",
        "frequency ={}\n",
        "highest_frequency = 0\n",
        "most_repeated_number = 0\n",
        "\n",
        "for num in l:\n",
        "  if num in frequency:\n",
        "    frequency[num] +=1\n",
        "  else:\n",
        "    frequency[num] = 1\n",
        "\n",
        "for num,count in frequency.items():\n",
        "  if count > highest_frequency:\n",
        "    highest_frequency = count\n",
        "    most_repeated_number = num\n",
        "\n",
        "print(f\"The most repeated number is {most_repeated_number} and it is repeated {highest_frequency} times.\")"
      ],
      "metadata": {
        "colab": {
          "base_uri": "https://localhost:8080/"
        },
        "id": "uhxub3casFUs",
        "outputId": "fd0cd0c1-711b-4def-c261-77e45d163a95"
      },
      "execution_count": null,
      "outputs": [
        {
          "output_type": "stream",
          "name": "stdout",
          "text": [
            "The most repeated number is 4 and it is repeated 6 times.\n"
          ]
        }
      ]
    },
    {
      "cell_type": "markdown",
      "source": [
        "# Second Largest Number in a list\n",
        "\n",
        "Given a list find the second largest number\n",
        "\n"
      ],
      "metadata": {
        "id": "i1Aj2BiZwRvf"
      }
    },
    {
      "cell_type": "code",
      "source": [
        "l = [1,22,23,3,4,50,50,50,6,7,7,8]\n",
        "\n",
        "#first method\n",
        "\n",
        "s=set(l) #changing the list to set to remove duplicates\n",
        "s.remove(max(s)) #removing the largest number\n",
        "second_largest = max(s)\n",
        "print(f\"Second Largest number is {second_largest}.\")\n"
      ],
      "metadata": {
        "colab": {
          "base_uri": "https://localhost:8080/"
        },
        "id": "xGDn_UIHtxTf",
        "outputId": "5776da04-ba8e-4727-b71d-6e4a61f74b51"
      },
      "execution_count": null,
      "outputs": [
        {
          "output_type": "stream",
          "name": "stdout",
          "text": [
            "Second Largest number is 23.\n"
          ]
        }
      ]
    },
    {
      "cell_type": "code",
      "source": [
        "# second method - using for loop\n",
        "\n",
        "largest= float('-inf')\n",
        "second_largest = float('-inf') #initializing largest and second largest number as -infinity\n",
        "\n",
        "for num in l:\n",
        "  if num > largest:\n",
        "     second_largest = largest\n",
        "     largest = num\n",
        "  elif largest > num > second_largest:\n",
        "    second_largest= num\n",
        "\n",
        "print(f\"The second largest number is {second_largest}.\")\n"
      ],
      "metadata": {
        "id": "ctAsgI1Bwjra",
        "colab": {
          "base_uri": "https://localhost:8080/"
        },
        "outputId": "863fdc59-d3b6-4b3b-c485-1cf581fda1ca"
      },
      "execution_count": null,
      "outputs": [
        {
          "output_type": "stream",
          "name": "stdout",
          "text": [
            "The second largest number is 23.\n"
          ]
        }
      ]
    },
    {
      "cell_type": "markdown",
      "source": [
        "# Reverse a list"
      ],
      "metadata": {
        "id": "BirD09Xxg2dF"
      }
    },
    {
      "cell_type": "code",
      "source": [
        "my_list = [1,2,3,4,5,6,7,8,9,10]\n",
        "\n",
        "#1st method using indexing\n",
        "\n",
        "reverse_list = my_list[::-1]\n",
        "print(f\"The actual list is {my_list}\")\n",
        "print(f\"The reversed list is {reverse_list}\")"
      ],
      "metadata": {
        "colab": {
          "base_uri": "https://localhost:8080/"
        },
        "id": "7TK5ACzngKCD",
        "outputId": "30f5df5e-c014-47c6-ba99-4108d7fc3822"
      },
      "execution_count": null,
      "outputs": [
        {
          "output_type": "stream",
          "name": "stdout",
          "text": [
            "The actual list is [1, 2, 3, 4, 5, 6, 7, 8, 9, 10]\n",
            "The reversed list is [10, 9, 8, 7, 6, 5, 4, 3, 2, 1]\n"
          ]
        }
      ]
    },
    {
      "cell_type": "code",
      "source": [
        "#2nd method- using for loop\n",
        "\n",
        "reverse_list = [] #initializing an empty list\n",
        "n=0\n",
        "for i in range(len(my_list)):\n",
        "    n=my_list.pop()\n",
        "    reverse_list.append(n)\n",
        "\n",
        "\n",
        "print(f\"The reversed list is {reverse_list}\")\n"
      ],
      "metadata": {
        "colab": {
          "base_uri": "https://localhost:8080/"
        },
        "id": "HtjYvT6vhAoB",
        "outputId": "ef58eb42-605f-4e30-d489-1c1919718514"
      },
      "execution_count": null,
      "outputs": [
        {
          "output_type": "stream",
          "name": "stdout",
          "text": [
            "The reversed list is [10, 9, 8, 7, 6, 5, 4, 3, 2, 1]\n"
          ]
        }
      ]
    },
    {
      "cell_type": "code",
      "source": [
        "#3rd method- adding each item individually to reverse_list\n",
        "reverse_list = [] #initializing an empty list\n",
        "\n",
        "for char in my_list:\n",
        "    reverse_list.insert(0,char)\n",
        "\n",
        "\n",
        "print(f\"The reversed list is {reverse_list}\")"
      ],
      "metadata": {
        "colab": {
          "base_uri": "https://localhost:8080/"
        },
        "id": "X-iyFQnXj5jr",
        "outputId": "eca1b300-f18b-43fb-9044-fe2129d08f07"
      },
      "execution_count": null,
      "outputs": [
        {
          "output_type": "stream",
          "name": "stdout",
          "text": [
            "The reversed list is [10, 9, 8, 7, 6, 5, 4, 3, 2, 1]\n"
          ]
        }
      ]
    },
    {
      "cell_type": "markdown",
      "source": [
        "# Check if a list is a palindrome"
      ],
      "metadata": {
        "id": "B1N3Ds_4lIZ7"
      }
    },
    {
      "cell_type": "code",
      "source": [
        "org_list = input(\"Enter the list sperated by commas\")\n",
        "\n",
        "def check_palindrome(org_list):\n",
        "  if (org_list == org_list[::-1]):\n",
        "    print(\"It is a palindrome\")\n",
        "  else:\n",
        "    print(\"It is not a palindrome\")\n",
        "\n",
        "check_palindrome(org_list)"
      ],
      "metadata": {
        "colab": {
          "base_uri": "https://localhost:8080/"
        },
        "id": "OJGX3BZxjMU_",
        "outputId": "f19301b6-0513-482f-c5cd-6fcc8755bbb3"
      },
      "execution_count": null,
      "outputs": [
        {
          "output_type": "stream",
          "name": "stdout",
          "text": [
            "Enter the list sperated by commas1,2,3,2,1\n",
            "It is a palindrome\n"
          ]
        }
      ]
    },
    {
      "cell_type": "markdown",
      "source": [
        "# Find all pairs of numbers in a list that sum up to a given target. - Two sums"
      ],
      "metadata": {
        "id": "dk39VwDDmY5j"
      }
    },
    {
      "cell_type": "code",
      "source": [
        "n = int(input(\"Enter the target number \"))\n",
        "l= (input(\"Enter the list seperated by commas \"))\n",
        "my_list = [int(x) for x in l.split(\",\")]\n",
        "\n",
        "def two_sums(my_list, n):\n",
        "  pairs = [] #list to store the pairs\n",
        "  for i in range(len(my_list)):\n",
        "    for j in range(i+1,len(my_list)):\n",
        "      if (my_list[i] + my_list[j] == n):\n",
        "        pairs.append((my_list[i], my_list[j]))\n",
        "  print(f\"The list of pairs that add upto {n} is {pairs}\")\n",
        "\n",
        "\n",
        "two_sums(my_list,n)\n"
      ],
      "metadata": {
        "id": "QLSUop9dmcp2",
        "colab": {
          "base_uri": "https://localhost:8080/"
        },
        "outputId": "5f0d928d-b64b-4016-a32d-eb9e2a63da3c"
      },
      "execution_count": 34,
      "outputs": [
        {
          "output_type": "stream",
          "name": "stdout",
          "text": [
            "Enter the target number 18\n",
            "Enter the list seperated by commas 9,2,9,7,18,0,10,4,16,8,17,1\n",
            "The list of pairs that add upto 18 is [(9, 9), (2, 16), (18, 0), (10, 8), (17, 1)]\n"
          ]
        }
      ]
    },
    {
      "cell_type": "markdown",
      "source": [
        "# Find the intersection and union of two lists"
      ],
      "metadata": {
        "id": "gS65rTKgwz7X"
      }
    },
    {
      "cell_type": "code",
      "source": [
        "#method using set\n",
        "list1 = [1,2,3,4,5,6,7]\n",
        "list2 = [1,3,5,7,9,11]\n",
        "\n",
        "def union_intersection(list1,list2):\n",
        "  union_list = list(set(list1) | set(list2))\n",
        "  intersection_list = list(set(list1) & set(list2))\n",
        "  print(f\"The union of lists is {union_list}\")\n",
        "  print(f\"The intersection of list is {intersection_list} \")\n",
        "\n",
        "union_intersection(list1,list2)\n"
      ],
      "metadata": {
        "colab": {
          "base_uri": "https://localhost:8080/"
        },
        "id": "BCwpmfwKrtzY",
        "outputId": "02a735d7-2e49-4f2a-e440-f52fe209931d"
      },
      "execution_count": 36,
      "outputs": [
        {
          "output_type": "stream",
          "name": "stdout",
          "text": [
            "The union of lists is [1, 2, 3, 4, 5, 6, 7, 9, 11]\n",
            "The intersection of list is [1, 3, 5, 7] \n"
          ]
        }
      ]
    },
    {
      "cell_type": "code",
      "source": [
        "# method using numpy\n",
        "import numpy as np\n",
        "array1 = np.array(list1)\n",
        "array2 = np.array(list2)\n",
        "\n",
        "intersection= np.intersect1d(array1,array2)\n",
        "union = np.union1d(array1,array2)\n",
        "\n",
        "print(f\"The union of lists is {union}\")\n",
        "print(f\"The intersection of list is {intersection} \")"
      ],
      "metadata": {
        "colab": {
          "base_uri": "https://localhost:8080/"
        },
        "id": "1ZT_F_o6xNZi",
        "outputId": "f981fb31-5865-4848-8d09-2e2268248576"
      },
      "execution_count": 38,
      "outputs": [
        {
          "output_type": "stream",
          "name": "stdout",
          "text": [
            "The union of lists is [ 1  2  3  4  5  6  7  9 11]\n",
            "The intersection of list is [1 3 5 7] \n"
          ]
        }
      ]
    },
    {
      "cell_type": "code",
      "source": [],
      "metadata": {
        "id": "kZhIHInd1oSb"
      },
      "execution_count": null,
      "outputs": []
    }
  ]
}