{
  "nbformat": 4,
  "nbformat_minor": 0,
  "metadata": {
    "colab": {
      "provenance": [],
      "authorship_tag": "ABX9TyO+MK1t/MknBwWmgss0k+9/",
      "include_colab_link": true
    },
    "kernelspec": {
      "name": "python3",
      "display_name": "Python 3"
    },
    "language_info": {
      "name": "python"
    }
  },
  "cells": [
    {
      "cell_type": "markdown",
      "metadata": {
        "id": "view-in-github",
        "colab_type": "text"
      },
      "source": [
        "<a href=\"https://colab.research.google.com/github/AnkitaAnalytics/Python_Basics/blob/main/Palindromes_and_duplicate_.ipynb\" target=\"_parent\"><img src=\"https://colab.research.google.com/assets/colab-badge.svg\" alt=\"Open In Colab\"/></a>"
      ]
    },
    {
      "cell_type": "code",
      "execution_count": null,
      "metadata": {
        "id": "xrh8Tw5V3DhQ"
      },
      "outputs": [],
      "source": [
        "# to check a number is palindrome or not"
      ]
    },
    {
      "cell_type": "code",
      "source": [
        "num = int(input(\"Enter the number\"))\n",
        "memory = num\n",
        "def check_palin(num): #defining a function to check palindrome\n",
        "  reverse = 0 # initializing an interger reverse to store reverse digits\n",
        "  while num >0:\n",
        "    dig= num % 10\n",
        "    reverse = reverse * 10+ dig\n",
        "    num\n",
        "    num = num//10\n",
        "  if (memory == reverse):\n",
        "    print (\"The number is palindrome\")\n",
        "  else:\n",
        "    print (\"The number is not palindrome\")\n",
        "\n",
        "check_palin(num)\n"
      ],
      "metadata": {
        "colab": {
          "base_uri": "https://localhost:8080/"
        },
        "id": "rt7PCsBX321v",
        "outputId": "f79be7c6-9b90-4d0c-8633-c9422ead44d2"
      },
      "execution_count": null,
      "outputs": [
        {
          "output_type": "stream",
          "name": "stdout",
          "text": [
            "Enter the number1221\n",
            "The number is palindrome\n"
          ]
        }
      ]
    },
    {
      "cell_type": "markdown",
      "source": [
        "**To check if a word is palindrome or not**\n",
        "\n"
      ],
      "metadata": {
        "id": "mKmQyenr5qMX"
      }
    },
    {
      "cell_type": "code",
      "source": [
        "word = str (input(\"Enter the word: \"))\n",
        "word = word.lower()\n",
        "def word_palin():\n",
        "  reverse_word = word[::-1] #reverses the word\n",
        "  if (word == reverse_word):\n",
        "    print (\"The word is palindrome.\")\n",
        "  else:\n",
        "    print (\"The word is not palindrome.\")\n",
        "\n",
        "word_palin()"
      ],
      "metadata": {
        "colab": {
          "base_uri": "https://localhost:8080/"
        },
        "id": "iAo6nqA14k-W",
        "outputId": "33d3ba04-89ec-443b-c6c1-6c7d88d515a8"
      },
      "execution_count": null,
      "outputs": [
        {
          "output_type": "stream",
          "name": "stdout",
          "text": [
            "Enter the word: Malayalam\n",
            "The word is palindrome\n"
          ]
        }
      ]
    },
    {
      "cell_type": "markdown",
      "source": [
        "**Write a Python program to find the list of duplicate characters in the given string. Print the elements in the list in alphabetical order.**\n",
        "Note: Input is case insensitive.\n",
        "\n",
        "Input: A string\n",
        "\n",
        "Output: A list containing repeated characters"
      ],
      "metadata": {
        "id": "ERBw-Z3a8GeO"
      }
    },
    {
      "cell_type": "code",
      "source": [
        "word = input(\"Enter a word \").lower()\n",
        "\n",
        "def find_duplicate():\n",
        "    counter = 0\n",
        "    duplicate={}\n",
        "    duplicate_letters=[]\n",
        "\n",
        "    for char in word:\n",
        "        counter = word.count(char)\n",
        "        if counter >1:\n",
        "            counter +=1\n",
        "            duplicate.update({char: counter})\n",
        "\n",
        "    duplicate_letters = list (duplicate.keys())\n",
        "    print (duplicate_letters)\n",
        "\n",
        "\n",
        "\n",
        "find_duplicate()\n"
      ],
      "metadata": {
        "colab": {
          "base_uri": "https://localhost:8080/"
        },
        "id": "NGFVun2w7d4y",
        "outputId": "815b0300-12b0-43ce-98d0-19c67b0272ae"
      },
      "execution_count": null,
      "outputs": [
        {
          "output_type": "stream",
          "name": "stdout",
          "text": [
            "Enter a word programming\n",
            "['r', 'g', 'm']\n"
          ]
        }
      ]
    },
    {
      "cell_type": "code",
      "source": [],
      "metadata": {
        "id": "nJjgPCRG8OO6"
      },
      "execution_count": null,
      "outputs": []
    }
  ]
}