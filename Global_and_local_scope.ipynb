{
  "nbformat": 4,
  "nbformat_minor": 0,
  "metadata": {
    "colab": {
      "provenance": [],
      "authorship_tag": "ABX9TyOOap8qjaybioeSIHkYbPoV",
      "include_colab_link": true
    },
    "kernelspec": {
      "name": "python3",
      "display_name": "Python 3"
    },
    "language_info": {
      "name": "python"
    }
  },
  "cells": [
    {
      "cell_type": "markdown",
      "metadata": {
        "id": "view-in-github",
        "colab_type": "text"
      },
      "source": [
        "<a href=\"https://colab.research.google.com/github/AnkitaAnalytics/Python_Basics/blob/main/Global_and_local_scope.ipynb\" target=\"_parent\"><img src=\"https://colab.research.google.com/assets/colab-badge.svg\" alt=\"Open In Colab\"/></a>"
      ]
    },
    {
      "cell_type": "markdown",
      "source": [
        "**Global scope**- Variables declared outside any function are in the global scope. This means they can be accessed anywhere in your program, both inside and outside of functions.\n",
        "\n",
        "**Local scope** -Variables declared inside any function are in the local scope. This means they can be accessed anywhere in your program, but only inside the functions."
      ],
      "metadata": {
        "id": "i9aCKoqD7ynE"
      }
    },
    {
      "cell_type": "code",
      "source": [
        "age = int(input(\"Enter your age : \")) #Global Variable - asking user to enter their age\n",
        "\n",
        "def age_of_user():\n",
        "  age = 26 #local variable, taking default age as 26\n",
        "  return (age)\n",
        "\n",
        "\n",
        "print (age_of_user()) #calling the function\n",
        "\n",
        "print (\"The age entered by user:\", age)\n",
        "\n"
      ],
      "metadata": {
        "colab": {
          "base_uri": "https://localhost:8080/"
        },
        "id": "hvyyhkly74o5",
        "outputId": "360823a7-b60b-4e92-85fc-ec609a38a64d"
      },
      "execution_count": 6,
      "outputs": [
        {
          "output_type": "stream",
          "name": "stdout",
          "text": [
            "Enter your age : 27\n",
            "26\n",
            "The age entered by user: 27\n"
          ]
        }
      ]
    },
    {
      "cell_type": "markdown",
      "source": [
        "**Modify a global variable inside a function using the global keyword.**"
      ],
      "metadata": {
        "id": "uh8rwUEk_hBn"
      }
    },
    {
      "cell_type": "code",
      "source": [
        "count = 0\n",
        "\n",
        "def increment():\n",
        "  global count #using global keyword to modify global variable inside the function\n",
        "  count +=1  #incrementing the value of global variable\n",
        "  return count\n",
        "\n",
        "increment()\n",
        "\n",
        "print (\"The count after increment is\", count)"
      ],
      "metadata": {
        "colab": {
          "base_uri": "https://localhost:8080/"
        },
        "id": "lh0kmGGh9Ev2",
        "outputId": "885d7347-ffc5-43bc-8769-94f74344f90d"
      },
      "execution_count": 8,
      "outputs": [
        {
          "output_type": "stream",
          "name": "stdout",
          "text": [
            "The count after increment is 1\n"
          ]
        }
      ]
    },
    {
      "cell_type": "markdown",
      "source": [
        "**Question- Inventory Management System for a store**\n",
        "\n",
        "Write a program to manage a store's inventory using a global variable total_items. Implement the following functions:\n",
        "\n",
        "add_items(count): Increases the total inventory by count.\n",
        "remove_items(count): Decreases the inventory by count, but ensures the inventory doesn't drop below 0. Print a warning if there's insufficient stock.\n",
        "check_stock(): Prints the current inventory."
      ],
      "metadata": {
        "id": "1TX-_t4AA3-f"
      }
    },
    {
      "cell_type": "code",
      "source": [
        "total_items= 150 #taking the starting inventory as 150\n",
        "\n",
        "def add_items(count):  #fucntion to add new item to inventory\n",
        "    global total_items #calling global variable\n",
        "    total_items +=count\n",
        "\n",
        "def remove_items(count): #function to remove item from inventory\n",
        "    global total_items\n",
        "    if (total_items - count >=0):\n",
        "        total_items -=count\n",
        "    else:\n",
        "        print (\"Can not remove stock: Insufficient stock\")\n",
        "\n",
        "def check_stock(): #function to check inventory status\n",
        "    global total_items\n",
        "    print (\"The updated stock is: \", total_items)\n"
      ],
      "metadata": {
        "id": "6c_4QKmsAduQ"
      },
      "execution_count": 11,
      "outputs": []
    },
    {
      "cell_type": "code",
      "source": [
        "print (\"The current stock is\", total_items)"
      ],
      "metadata": {
        "colab": {
          "base_uri": "https://localhost:8080/"
        },
        "id": "yjGDxrkTHTKJ",
        "outputId": "5b5d87f6-9588-4e5b-8346-c9b83bb8f804"
      },
      "execution_count": 12,
      "outputs": [
        {
          "output_type": "stream",
          "name": "stdout",
          "text": [
            "The current stock is 150\n"
          ]
        }
      ]
    },
    {
      "cell_type": "code",
      "source": [
        "add_items(10)\n",
        "remove_items(200)\n",
        "check_stock()"
      ],
      "metadata": {
        "colab": {
          "base_uri": "https://localhost:8080/"
        },
        "id": "qZzwANsPHVSl",
        "outputId": "2566300b-7922-4bcf-d2c0-7f5e8fb1bb96"
      },
      "execution_count": 13,
      "outputs": [
        {
          "output_type": "stream",
          "name": "stdout",
          "text": [
            "Can not remove stock: Insufficient stock\n",
            "The updated stock is:  160\n"
          ]
        }
      ]
    }
  ]
}