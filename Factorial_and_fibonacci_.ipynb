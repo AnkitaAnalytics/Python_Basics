{
  "cells": [
    {
      "cell_type": "markdown",
      "metadata": {
        "id": "view-in-github",
        "colab_type": "text"
      },
      "source": [
        "<a href=\"https://colab.research.google.com/github/AnkitaAnalytics/Python_Basics/blob/main/Factorial_and_fibonacci_.ipynb\" target=\"_parent\"><img src=\"https://colab.research.google.com/assets/colab-badge.svg\" alt=\"Open In Colab\"/></a>"
      ]
    },
    {
      "cell_type": "markdown",
      "source": [
        "**Find the factorial of a number n**"
      ],
      "metadata": {
        "id": "YfL12xe1BbwS"
      }
    },
    {
      "cell_type": "code",
      "execution_count": null,
      "metadata": {
        "colab": {
          "base_uri": "https://localhost:8080/"
        },
        "id": "xxguVov-eR9X",
        "outputId": "a0545a88-cc2a-4b4f-8b4e-1f5caac5a0ff"
      },
      "outputs": [
        {
          "name": "stdout",
          "output_type": "stream",
          "text": [
            "Enter the number5\n",
            "120\n"
          ]
        }
      ],
      "source": [
        "n = int(input(\"Enter the number\"))\n",
        "\n",
        "def factorial(n):\n",
        "   product =1\n",
        "\n",
        "   for i in range(1,n+1):\n",
        "       product = product * i\n",
        "   return product\n",
        "print (factorial(n))"
      ]
    },
    {
      "cell_type": "markdown",
      "source": [
        "**Fibonacci Series**"
      ],
      "metadata": {
        "id": "9zBnuH52BUFS"
      }
    },
    {
      "cell_type": "code",
      "execution_count": null,
      "metadata": {
        "colab": {
          "base_uri": "https://localhost:8080/"
        },
        "id": "nv65_-aLEgEx",
        "outputId": "26162336-c299-4bf5-f13f-16028ef870c1"
      },
      "outputs": [
        {
          "name": "stdout",
          "output_type": "stream",
          "text": [
            "Enter the first number 1\n",
            "Enter the second number 2\n",
            "[1, 2, 3, 5, 8, 13, 21, 34, 55, 89, 144, 233]\n"
          ]
        }
      ],
      "source": [
        "\n",
        "\n",
        "#find the next 10 numbers of fiboonaci series\n",
        "n1 = int(input( \"Enter the first number \"))\n",
        "n2 = int(input(\"Enter the second number \"))\n",
        "l =[]\n",
        "l.append(n1)\n",
        "l.append(n2)\n",
        "a=0\n",
        "for i in range(0,10):\n",
        "   a = l[i]  + l[i+1]\n",
        "   l.append(a)\n",
        "\n",
        "print (l)"
      ]
    },
    {
      "cell_type": "code",
      "execution_count": null,
      "metadata": {
        "colab": {
          "base_uri": "https://localhost:8080/"
        },
        "id": "I3LvvGfXSrrO",
        "outputId": "3fb1a453-50fa-4aad-fe42-7d808ffd7578"
      },
      "outputs": [
        {
          "name": "stdout",
          "output_type": "stream",
          "text": [
            "Enter first 2 numbers separated by commas 2,3\n",
            "[2, 3]\n"
          ]
        },
        {
          "data": {
            "text/plain": [
              "list"
            ]
          },
          "execution_count": 16,
          "metadata": {},
          "output_type": "execute_result"
        }
      ],
      "source": [
        "l= input(\"Enter first 2 numbers separated by commas \")\n",
        "n = [int(i) for i in l.split(\",\")]\n",
        "print (n)\n",
        "type (n)"
      ]
    },
    {
      "cell_type": "code",
      "execution_count": null,
      "metadata": {
        "colab": {
          "base_uri": "https://localhost:8080/"
        },
        "id": "FcMhUnf-VB5i",
        "outputId": "492d4902-2778-4c59-abf5-1d84805a4a8a"
      },
      "outputs": [
        {
          "name": "stdout",
          "output_type": "stream",
          "text": [
            "Enter first 2 numbers separated by commas 2,3\n",
            "[2, 3, 5, 8, 13, 21, 34, 55, 89, 144, 233, 377]\n"
          ]
        }
      ],
      "source": [
        "l= input(\"Enter first 2 numbers separated by commas \")\n",
        "n = [int(num) for num in l.split(\",\")]\n",
        "\n",
        "a = 0\n",
        "\n",
        "for i in range (0,10):\n",
        "   a = n[i] + n[i+1]\n",
        "   n.append(a)\n",
        "\n",
        "print(n)"
      ]
    },
    {
      "cell_type": "code",
      "execution_count": null,
      "metadata": {
        "colab": {
          "background_save": true,
          "base_uri": "https://localhost:8080/"
        },
        "id": "x8xOew5OWPp8",
        "outputId": "ce1c7584-bd3e-498d-d0b2-17622b891e9c"
      },
      "outputs": [
        {
          "name": "stdout",
          "output_type": "stream",
          "text": [
            "prime\n",
            "prime\n",
            "prime\n",
            "prime\n",
            "prime\n",
            "Not prime\n"
          ]
        }
      ],
      "source": [
        "#check if no is prime\n",
        "\n",
        "n = int(input(\"Enter the number \"))\n",
        "\n",
        "for i in range(2,n+1):\n",
        "      if n%i == 0:\n",
        "            print (\"Not prime\")\n",
        "      else:\n",
        "            print (\"prime\")"
      ]
    }
  ],
  "metadata": {
    "colab": {
      "provenance": [],
      "authorship_tag": "ABX9TyMWmmC/diADhHoOcokUZuaf",
      "include_colab_link": true
    },
    "kernelspec": {
      "display_name": "Python 3",
      "name": "python3"
    },
    "language_info": {
      "name": "python"
    }
  },
  "nbformat": 4,
  "nbformat_minor": 0
}