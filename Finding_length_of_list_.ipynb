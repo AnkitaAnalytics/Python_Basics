{
  "nbformat": 4,
  "nbformat_minor": 0,
  "metadata": {
    "colab": {
      "provenance": []
    },
    "kernelspec": {
      "name": "python3",
      "display_name": "Python 3"
    },
    "language_info": {
      "name": "python"
    }
  },
  "cells": [
    {
      "cell_type": "markdown",
      "source": [
        "**List** [ ], or list()"
      ],
      "metadata": {
        "id": "07Ke5JUhcBL8"
      }
    },
    {
      "cell_type": "code",
      "source": [
        "#creating list\n",
        "\n",
        "list_1 = [\"Delhi\", \"Mumbai\", \"Pune\", \"Bangalore\", \"Chennai\", \"Lucknow\", \"Hyderabad\"] #list of cities in India"
      ],
      "metadata": {
        "id": "uHl3fvrNcHGj"
      },
      "execution_count": 1,
      "outputs": []
    },
    {
      "cell_type": "code",
      "source": [
        "#printing the list\n",
        "\n",
        "print (list_1)"
      ],
      "metadata": {
        "colab": {
          "base_uri": "https://localhost:8080/"
        },
        "id": "f3XJSU82cpbM",
        "outputId": "6ea0dcd6-1a92-46d4-fcaa-8ad4b2fd6271"
      },
      "execution_count": 2,
      "outputs": [
        {
          "output_type": "stream",
          "name": "stdout",
          "text": [
            "['Delhi', 'Mumbai', 'Pune', 'Bangalore', 'Chennai', 'Lucknow', 'Hyderabad']\n"
          ]
        }
      ]
    },
    {
      "cell_type": "code",
      "source": [
        "#indexing in list\n",
        "print(list_1[1]) #prints the second element of the list"
      ],
      "metadata": {
        "colab": {
          "base_uri": "https://localhost:8080/"
        },
        "id": "lNyHLHDfcvCO",
        "outputId": "bf610527-4457-40f6-d736-0bf967893861"
      },
      "execution_count": 9,
      "outputs": [
        {
          "output_type": "stream",
          "name": "stdout",
          "text": [
            "Mumbai\n"
          ]
        }
      ]
    },
    {
      "cell_type": "markdown",
      "source": [
        "**Find the number of cities mentioned in the list. (len () function)**"
      ],
      "metadata": {
        "id": "Jwo0aZP9dE1v"
      }
    },
    {
      "cell_type": "code",
      "source": [
        "city_num = len(list_1) #finding the length of the list of cities and storing it into a variable"
      ],
      "metadata": {
        "id": "gViD57cvddSI"
      },
      "execution_count": 4,
      "outputs": []
    },
    {
      "cell_type": "code",
      "source": [
        "print(\"The number of cities mentioned here are:\", city_num) #printing the length of the list"
      ],
      "metadata": {
        "colab": {
          "base_uri": "https://localhost:8080/"
        },
        "id": "rBNdDeGdd2Fe",
        "outputId": "ed30c6e1-fcd4-45f7-9869-0453a3e22944"
      },
      "execution_count": 6,
      "outputs": [
        {
          "output_type": "stream",
          "name": "stdout",
          "text": [
            "The number of cities mentioned here are: 7\n"
          ]
        }
      ]
    },
    {
      "cell_type": "markdown",
      "source": [
        "**Find the length of a list using the sum() function**"
      ],
      "metadata": {
        "id": "4tRT-M1SeVam"
      }
    },
    {
      "cell_type": "code",
      "source": [
        "cities = sum(1 for city in list_1) # getting 1 each time the loop is run for elements in list_1 and then adding them all to get the sum"
      ],
      "metadata": {
        "id": "APfgD44QfFG6"
      },
      "execution_count": 7,
      "outputs": []
    },
    {
      "cell_type": "code",
      "source": [
        "print (\"The length of list is:\", cities)"
      ],
      "metadata": {
        "colab": {
          "base_uri": "https://localhost:8080/"
        },
        "id": "bYjBK9aGfhTF",
        "outputId": "2a6acc8f-1f6d-4c73-d63c-cf3b3e5ac09d"
      },
      "execution_count": 8,
      "outputs": [
        {
          "output_type": "stream",
          "name": "stdout",
          "text": [
            "The length of list is: 7\n"
          ]
        }
      ]
    },
    {
      "cell_type": "markdown",
      "source": [
        "**Find the length of list using for loop**"
      ],
      "metadata": {
        "id": "hL7PPfWEf3Dh"
      }
    },
    {
      "cell_type": "code",
      "source": [
        "count =0 #creating a variable name count\n",
        "\n",
        "for i in list_1: #creating a for loop for list_1\n",
        "  count +=1 #incrementing the count varible every time for loop is run\n",
        "\n",
        "print (\"The length of the list is:\", count)"
      ],
      "metadata": {
        "colab": {
          "base_uri": "https://localhost:8080/"
        },
        "id": "SwvWleo2f8hS",
        "outputId": "86745ffc-6b05-4ce2-a04b-935ce035fca0"
      },
      "execution_count": 12,
      "outputs": [
        {
          "output_type": "stream",
          "name": "stdout",
          "text": [
            "The length of the list is: 7\n"
          ]
        }
      ]
    },
    {
      "cell_type": "code",
      "source": [],
      "metadata": {
        "id": "Nb10iwyFgeF6"
      },
      "execution_count": null,
      "outputs": []
    }
  ]
}