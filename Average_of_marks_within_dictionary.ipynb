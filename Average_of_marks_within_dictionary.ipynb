{
  "nbformat": 4,
  "nbformat_minor": 0,
  "metadata": {
    "colab": {
      "provenance": [],
      "authorship_tag": "ABX9TyMsUlMoL1ZEmevXcJRBBqk5",
      "include_colab_link": true
    },
    "kernelspec": {
      "name": "python3",
      "display_name": "Python 3"
    },
    "language_info": {
      "name": "python"
    }
  },
  "cells": [
    {
      "cell_type": "markdown",
      "metadata": {
        "id": "view-in-github",
        "colab_type": "text"
      },
      "source": [
        "<a href=\"https://colab.research.google.com/github/AnkitaAnalytics/Python_Basics/blob/main/Average_of_marks_within_dictionary.ipynb\" target=\"_parent\"><img src=\"https://colab.research.google.com/assets/colab-badge.svg\" alt=\"Open In Colab\"/></a>"
      ]
    },
    {
      "cell_type": "markdown",
      "source": [
        "Question:\n",
        "\n",
        "You are provided with a dictionary containing student names as keys and their marks as values. Your task is to:\n",
        "\n",
        "Read an integer n, representing the number of student records.\n",
        "Read the next n lines where each line contains the name of a student followed by their marks, separated by spaces.\n",
        "Read the name of the student (query_name) whose average marks you need to calculate.\n",
        "Print the average of the marks for the given query_name, formatted to two decimal places."
      ],
      "metadata": {
        "id": "puH2PAltoMRm"
      }
    },
    {
      "cell_type": "code",
      "source": [
        "if __name__ == '__main__':\n",
        "    n = int(input(\"Enter the number of students in class \"))\n",
        "    student_marks = {}\n",
        "    for _ in range(n):\n",
        "        name, *line = input(\"Enter the name and marks seperated by space \").split()\n",
        "        scores = list(map(float, line))\n",
        "        student_marks[name] = scores\n",
        "\n",
        "query_name = input(\"Enter the student name to find average marks \")\n",
        "\n",
        "query_scores = (student_marks.get(query_name))\n",
        "avg_score = sum(query_scores)/len(query_scores)\n",
        "print (\"Average of marks for\", query_name, \"is\", f\"{avg_score:.2f}\")\n",
        "\n"
      ],
      "metadata": {
        "colab": {
          "base_uri": "https://localhost:8080/"
        },
        "id": "h9X-FUuAoOgN",
        "outputId": "806754bf-05f1-42dc-fbc8-48ae8d5d2200"
      },
      "execution_count": 3,
      "outputs": [
        {
          "output_type": "stream",
          "name": "stdout",
          "text": [
            "Enter the number of students in class 3\n",
            "Enter the name and marks seperated by space Krishna 67 68 69\n",
            "Enter the name and marks seperated by space Arjun 70 98 63\n",
            "Enter the name and marks seperated by space Malika 52 56 60\n",
            "Enter the student name to find average marks Malika\n",
            "Average of marks for  Malika 56.00\n"
          ]
        }
      ]
    },
    {
      "cell_type": "code",
      "source": [],
      "metadata": {
        "id": "ZYVWL7rEoTR-"
      },
      "execution_count": null,
      "outputs": []
    }
  ]
}