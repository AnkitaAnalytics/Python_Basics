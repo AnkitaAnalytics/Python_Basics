{
  "nbformat": 4,
  "nbformat_minor": 0,
  "metadata": {
    "colab": {
      "provenance": [],
      "authorship_tag": "ABX9TyPAryKlDzTZfgBuPtNUYRaL",
      "include_colab_link": true
    },
    "kernelspec": {
      "name": "python3",
      "display_name": "Python 3"
    },
    "language_info": {
      "name": "python"
    }
  },
  "cells": [
    {
      "cell_type": "markdown",
      "metadata": {
        "id": "view-in-github",
        "colab_type": "text"
      },
      "source": [
        "<a href=\"https://colab.research.google.com/github/AnkitaAnalytics/Python_Basics/blob/main/Anagrams.ipynb\" target=\"_parent\"><img src=\"https://colab.research.google.com/assets/colab-badge.svg\" alt=\"Open In Colab\"/></a>"
      ]
    },
    {
      "cell_type": "markdown",
      "source": [
        "# Find if two strings are anagrams"
      ],
      "metadata": {
        "id": "iC0IxnEz3Jkz"
      }
    },
    {
      "cell_type": "code",
      "source": [
        "string1= input(\"Enter the 1st string \")\n",
        "string2= input(\"Enter the 2nd string \")\n",
        "\n",
        "def anagrams(string1,string2):\n",
        "  if (sorted(string1.lower())==sorted(string2.lower())):\n",
        "    print(\"The two strings are anagrams.\")\n",
        "  else:\n",
        "    print(\"They aren't anagrams.\")\n",
        "\n",
        "anagrams(string1, string2)"
      ],
      "metadata": {
        "colab": {
          "base_uri": "https://localhost:8080/"
        },
        "id": "S7Mb_x4tRZrx",
        "outputId": "6d5d24df-55f3-465b-fae8-fcc74d861edd"
      },
      "execution_count": 3,
      "outputs": [
        {
          "output_type": "stream",
          "name": "stdout",
          "text": [
            "Enter the 1st string Silent\n",
            "Enter the 2nd string listen\n",
            "The two strings are anagrams.\n"
          ]
        }
      ]
    }
  ]
}