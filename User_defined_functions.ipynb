{
  "nbformat": 4,
  "nbformat_minor": 0,
  "metadata": {
    "colab": {
      "provenance": [],
      "authorship_tag": "ABX9TyP8kBQ56RffJxaEWfd0mRo5",
      "include_colab_link": true
    },
    "kernelspec": {
      "name": "python3",
      "display_name": "Python 3"
    },
    "language_info": {
      "name": "python"
    }
  },
  "cells": [
    {
      "cell_type": "markdown",
      "metadata": {
        "id": "view-in-github",
        "colab_type": "text"
      },
      "source": [
        "<a href=\"https://colab.research.google.com/github/AnkitaAnalytics/Python_Basics/blob/main/User_defined_functions.ipynb\" target=\"_parent\"><img src=\"https://colab.research.google.com/assets/colab-badge.svg\" alt=\"Open In Colab\"/></a>"
      ]
    },
    {
      "cell_type": "markdown",
      "source": [
        "**User Defined Functions**\n",
        "\n",
        "\n",
        "*    Blocks of code designed by the programmer to perform particular actions. They help in breaking down complex problems into simpler, reusable parts, improving code readability and maintainability.\n",
        "\n"
      ],
      "metadata": {
        "id": "KdPBW4DV8CrU"
      }
    },
    {
      "cell_type": "code",
      "source": [
        "#defining a function\n",
        "\n",
        "def intro(): #use of def funtion\n",
        "  print (\"My name is Ankita and I love coding.\")\n",
        "\n",
        "intro() #calling the funtion"
      ],
      "metadata": {
        "colab": {
          "base_uri": "https://localhost:8080/"
        },
        "id": "L5u5Uf6K8GfA",
        "outputId": "814ea266-62f2-4756-e42c-2f40cce10f62"
      },
      "execution_count": 2,
      "outputs": [
        {
          "output_type": "stream",
          "name": "stdout",
          "text": [
            "My name is Ankita and I love coding.\n"
          ]
        }
      ]
    },
    {
      "cell_type": "markdown",
      "source": [
        "Define a function that calculates and displays the sum of two numbers."
      ],
      "metadata": {
        "id": "GEF9yewG96xS"
      }
    },
    {
      "cell_type": "code",
      "source": [
        "def add(): #defining the function add\n",
        "  a=10     # assigning value to two numbers\n",
        "  b=20\n",
        "  print(a+b)\n",
        "\n",
        "add()      #calling the funtion"
      ],
      "metadata": {
        "colab": {
          "base_uri": "https://localhost:8080/"
        },
        "id": "jQn3Wb5i8r48",
        "outputId": "9e651fd1-3725-4c56-83ef-c006d4f0d691"
      },
      "execution_count": 4,
      "outputs": [
        {
          "output_type": "stream",
          "name": "stdout",
          "text": [
            "30\n"
          ]
        }
      ]
    },
    {
      "cell_type": "markdown",
      "source": [
        "Question: Write a python code to find the cube of given number.  "
      ],
      "metadata": {
        "id": "lMPje9Yw-k4t"
      }
    },
    {
      "cell_type": "code",
      "source": [
        "num = int(input(\"Input the number you want to be cubed \")) #taking input from user\n",
        "\n",
        "def cube_of(num):\n",
        "  print (\"The cube of\", num, \"is\", num**3) # using ** operator to raise the num to power 3\n",
        "\n",
        "cube_of(num)"
      ],
      "metadata": {
        "colab": {
          "base_uri": "https://localhost:8080/"
        },
        "id": "_mDnWB_t-Lx1",
        "outputId": "d7173edc-60d8-4463-d271-79e64e59d96b"
      },
      "execution_count": 9,
      "outputs": [
        {
          "output_type": "stream",
          "name": "stdout",
          "text": [
            "Input the number you want to be cubed 3\n",
            "The cube of 3 is 27\n"
          ]
        }
      ]
    },
    {
      "cell_type": "markdown",
      "source": [
        "**Return Statements, Parameters and Aruguments**\n",
        "\n",
        "\n",
        "*   Parameters are variable names passed in the function - they allow dynamic input\n",
        "*   An argument is the actual value that is passed into a function which accepts a parameter. Functions with default arguments in Python allow for predefined values that can be overridden when necessary.\n",
        "\n"
      ],
      "metadata": {
        "id": "v6Fgf-_BAahr"
      }
    },
    {
      "cell_type": "markdown",
      "source": [
        "Question:\n",
        "Create a function squared(), which takes x and y as arguments and returns the value of x raised to power y, x**y."
      ],
      "metadata": {
        "id": "ucC84wnaBpK3"
      }
    },
    {
      "cell_type": "code",
      "source": [
        "x= int(input(\"Input x \")) #asking user for input and changing it to int data type\n",
        "y= int(input(\"Input y \"))\n",
        "\n",
        "def squared(x,y): #creating squared function with 2 parameters x and y\n",
        "   return x**y    #returning x raised to power y\n",
        "\n",
        "print (\"The value of x raised to the power y is\",squared(x,y)) #calling the function"
      ],
      "metadata": {
        "colab": {
          "base_uri": "https://localhost:8080/"
        },
        "id": "DarljJlk_ZPF",
        "outputId": "f7f64207-54d3-4b35-d1b3-839e99a014d1"
      },
      "execution_count": 1,
      "outputs": [
        {
          "output_type": "stream",
          "name": "stdout",
          "text": [
            "Input x 4\n",
            "Input y 3\n",
            "The value of x raised to the power y is 64\n"
          ]
        }
      ]
    },
    {
      "cell_type": "code",
      "source": [
        "#Function with Default Argument\n",
        "\n",
        "def calculation(x,y,operation='add'):\n",
        "  if operation =='add':\n",
        "    return x+y\n",
        "  elif operation== 'subtract':\n",
        "      return x-y\n",
        "  elif operation == 'multiply':\n",
        "        return x*y\n",
        "  elif operation == 'divide':\n",
        "          return x/y\n",
        "  else:\n",
        "            return (\"Invalid Operation\")\n",
        "\n",
        "print (calculation(4,5)) # the first two argument are mapped, and if the third argument is not given it takes the default argument\n"
      ],
      "metadata": {
        "colab": {
          "base_uri": "https://localhost:8080/"
        },
        "id": "9G9gNxG5CJjP",
        "outputId": "c94e196b-9937-4f7d-c6c1-084b6ab43f6f"
      },
      "execution_count": 3,
      "outputs": [
        {
          "output_type": "stream",
          "name": "stdout",
          "text": [
            "9\n"
          ]
        }
      ]
    },
    {
      "cell_type": "code",
      "source": [
        "print (calculation(5,6,'subtract')) #specifying subtract as operation"
      ],
      "metadata": {
        "colab": {
          "base_uri": "https://localhost:8080/"
        },
        "id": "pK6oK0vPsfWC",
        "outputId": "fb3ac83b-e90f-4687-ce13-317ea7735f55"
      },
      "execution_count": 5,
      "outputs": [
        {
          "output_type": "stream",
          "name": "stdout",
          "text": [
            "-1\n"
          ]
        }
      ]
    },
    {
      "cell_type": "code",
      "source": [
        "print (calculation(7,9, 'power')) #as power operation isn't defined it returns \"Invalid Operation\" from the else statement"
      ],
      "metadata": {
        "colab": {
          "base_uri": "https://localhost:8080/"
        },
        "id": "cL3gQy_Gsxwv",
        "outputId": "001c08a2-6842-45d9-ac81-127a7a642e9e"
      },
      "execution_count": 6,
      "outputs": [
        {
          "output_type": "stream",
          "name": "stdout",
          "text": [
            "Invalid Operation\n"
          ]
        }
      ]
    }
  ]
}