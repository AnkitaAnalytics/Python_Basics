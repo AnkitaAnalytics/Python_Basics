{
  "nbformat": 4,
  "nbformat_minor": 0,
  "metadata": {
    "colab": {
      "provenance": [],
      "authorship_tag": "ABX9TyN9sh+jTjaV6LYGKAD38F00",
      "include_colab_link": true
    },
    "kernelspec": {
      "name": "python3",
      "display_name": "Python 3"
    },
    "language_info": {
      "name": "python"
    }
  },
  "cells": [
    {
      "cell_type": "markdown",
      "metadata": {
        "id": "view-in-github",
        "colab_type": "text"
      },
      "source": [
        "<a href=\"https://colab.research.google.com/github/AnkitaAnalytics/Python_Basics/blob/main/User_defined_functions.ipynb\" target=\"_parent\"><img src=\"https://colab.research.google.com/assets/colab-badge.svg\" alt=\"Open In Colab\"/></a>"
      ]
    },
    {
      "cell_type": "code",
      "execution_count": null,
      "metadata": {
        "id": "e_BRBdtM7cxh"
      },
      "outputs": [],
      "source": []
    },
    {
      "cell_type": "markdown",
      "source": [
        "User Defined Functions\n",
        "\n",
        "\n",
        "*    Blocks of code designed by the programmer to perform particular actions. They help in breaking down complex problems into simpler, reusable parts, improving code readability and maintainability.\n",
        "\n"
      ],
      "metadata": {
        "id": "KdPBW4DV8CrU"
      }
    },
    {
      "cell_type": "code",
      "source": [
        "#defining a function\n",
        "\n",
        "def intro(): #use of def funtion\n",
        "  print (\"My name is Ankita and I love coding.\")\n",
        "\n",
        "intro() #calling the funtion"
      ],
      "metadata": {
        "colab": {
          "base_uri": "https://localhost:8080/"
        },
        "id": "L5u5Uf6K8GfA",
        "outputId": "814ea266-62f2-4756-e42c-2f40cce10f62"
      },
      "execution_count": 2,
      "outputs": [
        {
          "output_type": "stream",
          "name": "stdout",
          "text": [
            "My name is Ankita and I love coding.\n"
          ]
        }
      ]
    },
    {
      "cell_type": "markdown",
      "source": [
        "Define a function that calculates and displays the sum of two numbers."
      ],
      "metadata": {
        "id": "GEF9yewG96xS"
      }
    },
    {
      "cell_type": "code",
      "source": [
        "def add(): #defining the function add\n",
        "  a=10     # assigning value to two numbers\n",
        "  b=20\n",
        "  print(a+b)\n",
        "\n",
        "add()      #calling the funtion"
      ],
      "metadata": {
        "colab": {
          "base_uri": "https://localhost:8080/"
        },
        "id": "jQn3Wb5i8r48",
        "outputId": "9e651fd1-3725-4c56-83ef-c006d4f0d691"
      },
      "execution_count": 4,
      "outputs": [
        {
          "output_type": "stream",
          "name": "stdout",
          "text": [
            "30\n"
          ]
        }
      ]
    },
    {
      "cell_type": "markdown",
      "source": [
        "Question: Write a python code to find the cube of given number.  "
      ],
      "metadata": {
        "id": "lMPje9Yw-k4t"
      }
    },
    {
      "cell_type": "code",
      "source": [
        "num = int(input(\"Input the number you want to be cubed \")) #taking input from user\n",
        "\n",
        "def cube_of(num):\n",
        "  print (\"The cube of\", num, \"is\", num**3) # using ** operator to raise the num to power 3\n",
        "\n",
        "cube_of(num)"
      ],
      "metadata": {
        "colab": {
          "base_uri": "https://localhost:8080/"
        },
        "id": "_mDnWB_t-Lx1",
        "outputId": "d7173edc-60d8-4463-d271-79e64e59d96b"
      },
      "execution_count": 9,
      "outputs": [
        {
          "output_type": "stream",
          "name": "stdout",
          "text": [
            "Input the number you want to be cubed 3\n",
            "The cube of 3 is 27\n"
          ]
        }
      ]
    },
    {
      "cell_type": "markdown",
      "source": [
        "**Return Statements, Parameters and Aruguments**"
      ],
      "metadata": {
        "id": "v6Fgf-_BAahr"
      }
    },
    {
      "cell_type": "markdown",
      "source": [
        "Create a function squared(), which takes x and y as arguments and returns the value of x raised to power y, x**y."
      ],
      "metadata": {
        "id": "ucC84wnaBpK3"
      }
    },
    {
      "cell_type": "code",
      "source": [
        "x= int(input(\"Input x \"))\n",
        "y= int(input(\"Input y \"))\n",
        "\n",
        "def squared(x,y):\n",
        "   return x**y\n",
        "\n",
        "print (\"The value of x raised to the power y is\",squared(x,y))"
      ],
      "metadata": {
        "colab": {
          "base_uri": "https://localhost:8080/"
        },
        "id": "DarljJlk_ZPF",
        "outputId": "b8440f74-a0e4-44f8-942c-1425a99097cf"
      },
      "execution_count": 14,
      "outputs": [
        {
          "output_type": "stream",
          "name": "stdout",
          "text": [
            "Input x 4\n",
            "Input y 3\n",
            "The value of x raised to the power y is 64\n"
          ]
        }
      ]
    },
    {
      "cell_type": "code",
      "source": [],
      "metadata": {
        "id": "9G9gNxG5CJjP"
      },
      "execution_count": null,
      "outputs": []
    }
  ]
}